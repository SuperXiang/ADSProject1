{
  "nbformat": 4,
  "nbformat_minor": 0,
  "metadata": {
    "colab": {
      "name": "Jeremy-Overjet ML Engineering Test.ipynb",
      "provenance": [],
      "collapsed_sections": [],
      "include_colab_link": true
    },
    "kernelspec": {
      "name": "python3",
      "display_name": "Python 3"
    }
  },
  "cells": [
    {
      "cell_type": "markdown",
      "metadata": {
        "id": "view-in-github",
        "colab_type": "text"
      },
      "source": [
        "<a href=\"https://colab.research.google.com/github/SuperXiang/ADSProject1/blob/master/Jeremy_Overjet_ML_Engineering_Test.ipynb\" target=\"_parent\"><img src=\"https://colab.research.google.com/assets/colab-badge.svg\" alt=\"Open In Colab\"/></a>"
      ]
    },
    {
      "cell_type": "markdown",
      "metadata": {
        "id": "jHVOATEGFzm1",
        "colab_type": "text"
      },
      "source": [
        "# Instructions: You have 1.5 hrs to complete the test. There are 4 questions. Please feel free to use any Python library/package. If you are not able to complete the question using code, please attempt using pseudocode. If you are unclear on any question, state your assumptions and complete accordingly."
      ]
    },
    {
      "cell_type": "markdown",
      "metadata": {
        "id": "KSxh88J-rV1y",
        "colab_type": "text"
      },
      "source": [
        "1) Please build a function that takes in a numpy array (h x w x c) that resizes it to a given h_max and w_max but keeps the aspect ratio the same."
      ]
    },
    {
      "cell_type": "code",
      "metadata": {
        "id": "-63A86_VTwUM",
        "colab_type": "code",
        "colab": {}
      },
      "source": [
        "import cv2\n",
        "\n",
        "def resize_same_aspect_ratio(arr, width = None, height = None, inter = cv2.INTER_AREA):\n",
        "  c = None\n",
        "  (h, w)=(h_max, w_max)\n",
        "\n",
        "  if width is None and height is None:\n",
        "    return arr\n",
        "\n",
        "  if width is None:\n",
        "    tmp = height / float(h)\n",
        "    c = (int(w * tmp), height)\n",
        "\n",
        "  else:\n",
        "    tmp = width / float(w)\n",
        "    c = (width, int(h * tmp))\n",
        "\n",
        "  return cv2.resize(arr, c, interpolation = inter) "
      ],
      "execution_count": 0,
      "outputs": []
    },
    {
      "cell_type": "markdown",
      "metadata": {
        "id": "Y7yjMtsBDSyT",
        "colab_type": "text"
      },
      "source": [
        "2) The Dockerfile below installs PyTorch and serves a PyTorch model. Please suggest two ways to optimize the image size.\n",
        "\n",
        "```python\n",
        "\n",
        "FROM debian:stable\n",
        "\n",
        "RUN echo 'debconf debconf/frontend select Noninteractive' | debconf-set-selections\n",
        "\n",
        "# install basics\n",
        "RUN apt-get update -y \\\n",
        " && apt-get install -y \\\n",
        "    apt-utils \\ \n",
        "    git \\ \n",
        "    curl \\ \n",
        "    ca-certificates \\ \n",
        "    bzip2 \\\n",
        "    cmake \\ \n",
        "    tree \\ \n",
        "    bmon \\ \n",
        "    g++ \\\n",
        "    libglib2.0-0 \\ \n",
        "    libsm6 \\\n",
        "    libxext6 \\\n",
        "    libxrender-dev\n",
        "\n",
        "\n",
        "# Install Miniconda\n",
        "RUN curl -so /miniconda.sh https://repo.continuum.io/miniconda/Miniconda3-latest-Linux-x86_64.sh \\\n",
        " && chmod +x /miniconda.sh \\\n",
        " && /miniconda.sh -b -p /miniconda\n",
        "\n",
        "ENV PATH=/miniconda/bin:$PATH\n",
        "\n",
        "# Create a Python 3.6 environment\n",
        "RUN /miniconda/bin/conda install -y conda-build \\\n",
        " && /miniconda/bin/conda create -y --name py36 python=3.6.7 \\\n",
        " && /miniconda/bin/conda clean -ya\n",
        "\n",
        "ENV CONDA_DEFAULT_ENV=py36\n",
        "ENV CONDA_PREFIX=/miniconda/envs/$CONDA_DEFAULT_ENV\n",
        "ENV PATH=$CONDA_PREFIX/bin:$PATH\n",
        "ENV CONDA_AUTO_UPDATE_CONDA=false\n",
        "\n",
        "\n",
        "# Install PyTorch 1.0 Nightly\n",
        "RUN conda install pytorch-nightly -c pytorch \\\n",
        " && conda clean -ya\n",
        "\n",
        "RUN conda install torchvision -c pytorch \\\n",
        " && conda clean -ya\n",
        "\n",
        "RUN conda install -c conda-forge pycocotools && conda clean -ya\n",
        "\n",
        "# install PyTorch Detection\n",
        "RUN git clone https://github.com/facebookresearch/maskrcnn-benchmark.git \\\n",
        " && cd maskrcnn-benchmark \\\n",
        " && python setup.py build develop\n",
        "\n",
        "# install apex\n",
        "RUN git clone https://github.com/NVIDIA/apex.git \\\n",
        " && cd apex \\\n",
        " && python setup.py install --cpp_ext\n",
        "\n",
        "\n",
        "# Copy local code to the container image.\n",
        "ENV APP_HOME /app\n",
        "WORKDIR $APP_HOME\n",
        "COPY tools/app.py ./\n",
        "COPY tools/output_predictions_online.py ./\n",
        "COPY tools/output_predictions_single.py ./\n",
        "COPY configs/diseases/calc_deploy.yaml ./\n",
        "COPY maskrcnn_benchmark ./\n",
        "COPY ./model_best.pth ./best_weights.pth\n",
        "COPY tools/requirements.txt ./\n",
        "\n",
        "\n",
        "# Install production dependencies.\n",
        "RUN pip install -r requirements.txt\n",
        "\n",
        "# Install production dependencies.\n",
        "RUN pip install Flask gunicorn\n",
        "\n",
        "# Run the web service on container startup.\n",
        "CMD exec gunicorn --bind :$PORT --workers 1 --threads 1 app:app\n",
        "\n",
        "```\n",
        "\n",
        "\n"
      ]
    },
    {
      "cell_type": "markdown",
      "metadata": {
        "id": "nmdAx5pdeOe-",
        "colab_type": "text"
      },
      "source": [
        "1. Put as much as the RUN commands you can into a single RUN statement.\n",
        "2. Use docker-squash or use --squash while building.  "
      ]
    },
    {
      "cell_type": "markdown",
      "metadata": {
        "id": "eEwlSOIdMGTm",
        "colab_type": "text"
      },
      "source": [
        "3) Please compute the Precision and Recall for predictions of bounding boxes against ground truth of bounding boxes given a threshold. A reference is https://www.jeremyjordan.me/evaluating-image-segmentation-models/ (See section: \"Calculating Precision\"). The function signature is given below. Note that you should implement a function that returns the intersection and union of two bounding boxes.\n",
        "\n"
      ]
    },
    {
      "cell_type": "markdown",
      "metadata": {
        "id": "mavmNItiZExo",
        "colab_type": "text"
      },
      "source": [
        ""
      ]
    },
    {
      "cell_type": "code",
      "metadata": {
        "id": "EKg1_sQFh0mL",
        "colab_type": "code",
        "colab": {}
      },
      "source": [
        "import pandas as pd\n",
        "import numpy as np\n",
        "import cv2\n",
        "\n",
        "def compute_precision_recall(prediction,ground_truth, threshold):\n",
        "  \"\"\"prediction and ground_truth are lists of bounding boxes. East list is of format: [[(x1,y1),(x1,y2),(x2,y2),(x2,y1)],...]\n",
        "  Assume you have available a function that returns the intersection and the union of two bonding boxes: \n",
        "  intersection, union = get_intersection_union(bbox1,bbox2)\n",
        " \"\"\"\n",
        "  # PLEASE IMPLEMENT THIS\n",
        "  data = pd.read_csv('ground_truth.csv')\n",
        "  pred = pd.read_csv('prediction.csv')\n",
        "  intersection, union = get_intersection_union(prediction,ground_truth)\n",
        "  iou = intersecion / union\n",
        "\n",
        "  precision = [] \n",
        "  recall = []\n",
        "  evaluation = pd.DataFrame()\n",
        "  evaluation['IOU'] = data.apply(iou, axis = 1)\n",
        "  evaluation['TP/FP'] = evaluation['IOU'].apply(lambda x: 'TP' if x >= 0.5 else 'FP')\n",
        "  TP = FP = 0\n",
        "  FN = len(evaluation['TP/FP'] == 'TP')\n",
        "  for column, row in evaluation.iterrows():\n",
        "    if row.IOU > 0.5:\n",
        "      TP = TP + 1\n",
        "    else:\n",
        "      FP = FP + 1\n",
        "    \n",
        "    try:\n",
        "      AP = TP / (TP + FP)\n",
        "      rec = TP / (TP + FN)\n",
        "\n",
        "    except ZeroDivisionError:\n",
        "      AP = recall = 0.0\n",
        "\n",
        "    precision.append(AP)\n",
        "    recall.append(rec)\n",
        "\n",
        "  return precision, recall"
      ],
      "execution_count": 0,
      "outputs": []
    },
    {
      "cell_type": "markdown",
      "metadata": {
        "id": "ipsajg2j1ANI",
        "colab_type": "text"
      },
      "source": [
        "4) \n",
        "You are given filenames with the format: ```00...0patientid00.TIF```. The ```0``` to the left of ```patientid``` repeats a variable number of times as shown by the ellipses. ```patientid``` is numeric such as `18` or `9999` and doesn't begin with zero. The ```0``` to the right of ```patientid``` repeats exactly twice as shown.\n",
        "\n",
        "Write a function with below signature to extract the patient id. E.g. for ```00001700.TIF```, the function should return ```17```. This function should work for arbitrary extensions such as ```TIF```, ```JPEG``` and so on.\n",
        "\n",
        "def extract(filename):\n",
        "\n",
        "\n",
        "  return patient_id\n",
        "```\n",
        "\n",
        "\n"
      ]
    },
    {
      "cell_type": "code",
      "metadata": {
        "id": "EejqmpWOpqaN",
        "colab_type": "code",
        "colab": {}
      },
      "source": [
        "import re\n",
        "\n",
        "def extract(filename):\n",
        "  tmp = re.findall(r'\\d+', filename)\n",
        "  patient_id = list(map(int, tmp))\n",
        "\n",
        "  return patient_id"
      ],
      "execution_count": 0,
      "outputs": []
    }
  ]
}